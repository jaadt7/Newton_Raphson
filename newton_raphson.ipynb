{
 "cells": [
  {
   "cell_type": "markdown",
   "metadata": {},
   "source": [
    "The aim of this notebook is to apply the Newton-Raphson solver to couple partial differential equations. The Newton-Raphson method is one of the techniques used for root finding (should the function admit one or several). The method is rather straight forward. For a given function $f(x)$, Taylor expand to the first order around an inital guess of where the root is ($x_{n}$):\n",
    "\n",
    "$f(x) = f(x_{n}) + (x - x_{n})df(x_{n})$\n",
    "\n",
    "At the root $x_{0}$:\n",
    "\n",
    "$f(x_{0}) = f(x_{n}) + (x_{0} - x_{n})df(x_{n}) = 0$\n",
    "\n",
    "Rearranging for $x_{0}$:\n",
    "\n",
    "$x_{0} = x_{n} - f(x_{n})/df(x_{n})$\n",
    "\n",
    "The newly calculated root $x_{0}$ replaces the original guess $x_{n}$ and the process is repeated iteratively until the ratio $\\frac{f(x_{n})}{df(x_{n})}$ vanishes, or is below a certain threshold. The proper explicit differentiation would result in the following recursion:\n",
    "\n",
    "$x_{i+1} = x_{i} - f(x_{i})/df(x_{i})$\n",
    "\n",
    "Applying the to coupled differential equations is quite straight forward. The recursion relation for coupled functions is:\n",
    "\n",
    "$\\sum \\limits_{j=1}^{n} \\frac{\\partial f_{i}}{\\partial x_{j}}\\delta x_{j} = -f_{i}(x)$\n",
    "\n",
    "Where 'i' is the equation number. Hopefully the example will make things easier.\n",
    "\n",
    "Consider the following coupled 1st order differential equations:\n",
    "\n",
    "$\\begin{cases}\n",
    "\\frac{d y_{1}}{dx} = \\alpha y_{1} + \\beta y_{2}\\\\\n",
    "\\frac{d y_{2}}{dx} = \\gamma y_{1} + \\sigma y_{2}\n",
    "\\end{cases}$\n",
    "\n",
    "Where $\\alpha$, $\\beta$, $\\gamma$, and $\\sigma$ are constants. For the method to work, we must perform implicit discritization\n",
    "\n",
    "$\\begin{cases}\n",
    "\\frac{y_{1}(i+1) - y_{1}(i)}{\\Delta t} = \\alpha y_{1}(i+1) + \\beta y_{2}(i+1)\\\\\n",
    "\\frac{y_{2}(i+1) - y_{2}(i)}{\\Delta t} = \\gamma y_{1}(i+1) + \\sigma y_{2}(i+1)\n",
    "\\end{cases}$\n",
    "\n",
    "Re-arranging and factorizing:\n",
    "\n",
    "$\\begin{cases}\n",
    "y_{1}(i+1)[1 - \\alpha\\Delta t] - \\beta\\Delta t y_{2}(i+1) - y_{1}(i) = f_{1}\\\\\n",
    "y_{2}(i+1)[1 - \\sigma\\Delta t] - \\gamma\\Delta t y_{1}(i+1) - y_{2}(i) = f_{2}\n",
    "\\end{cases}$\n",
    "\n",
    "Taking derivatives with respect to the variables that are at index (i+1) we get:\n",
    "\n",
    "$\\begin{cases}\n",
    "[1 - \\alpha\\Delta t]\\delta y_{1} - \\beta\\Delta t\\delta y_{2} = -f_{1}\\\\\n",
    "[1 - \\sigma\\Delta t]\\delta y_{2} - \\gamma\\Delta t y_{1} = -f_{2}\n",
    "\\end{cases}$\n",
    "\n",
    "Since we have two equations in two unknows, being the $\\delta$ terms. We can solve the following matrix equation iteratively until the maximum $\\delta$ is below a specified tolerance.\n",
    "\n",
    "\n",
    "$\\begin{bmatrix}\n",
    "[1 - \\alpha\\Delta t] & - \\beta\\Delta t\\\\\n",
    "[1 - \\sigma\\Delta t] & - \\gamma\\Delta t\n",
    "\\end{bmatrix}*\\begin{bmatrix}\n",
    "\\delta y_{1}\\\\\n",
    "\\delta y_{2}\n",
    "\\end{bmatrix} = \\begin{bmatrix}\n",
    "-f_{1}\\\\\n",
    "-f_{2}\n",
    "\\end{bmatrix}$\n",
    "\n",
    "The following python script will solve the above example with\n",
    "$\\begin{cases}\n",
    "\\alpha = -1\\\\\n",
    "\\beta = 100\\\\\n",
    "\\gamma = 1\\\\\n",
    "\\sigma = -100\n",
    "\\end{cases}$\n",
    "\n",
    "and initial values of \n",
    "\n",
    "$\\begin{cases}\n",
    "y_{1}(0) = 0\\\\\n",
    "y_{2}(0) = 1\n",
    "\\end{cases}$"
   ]
  },
  {
   "cell_type": "code",
   "execution_count": 19,
   "metadata": {},
   "outputs": [],
   "source": [
    "#Here we quietly check and install missing python libraries\n",
    "import sys, subprocess,pkg_resources\n",
    "required = {'numpy','matplotlib'}\n",
    "installed = {pkg.key for pkg in pkg_resources.working_set}\n",
    "missing = required - installed\n",
    "\n",
    "if missing:\n",
    "    subprocess.check_call([sys.executable,'-m','pip','install','--quiet',*missing])\n",
    "\n",
    "#importing the required libraries to perform the calculation\n",
    "import numpy as np\n",
    "import matplotlib.pyplot as plt"
   ]
  },
  {
   "cell_type": "code",
   "execution_count": 20,
   "metadata": {},
   "outputs": [],
   "source": [
    "#the defined functions f1 and f2\n",
    "def f1_ex(dt,y1,y1_dt,y2_dt,alpha,beta):\n",
    "    return y1_dt*(1 - alpha*dt) - beta*dt*y2_dt -y1\n",
    "def f2_ex(dt,y2,y1_dt,y2_dt,gamma,sigma):\n",
    "    return y2_dt*(1 - sigma*dt) - gamma*dt*y1_dt - y2\n",
    "\n",
    "#Newton raphson solver \n",
    "def newt_raph_solve(n_tot,alpha,beta,gamma,sigma,dt,y1,y2,y1_dt,y2_dt,y11,y22,t,tol,A):\n",
    "    \n",
    "    for i in range (1,n_tot):\n",
    "        #x is defined before the loop to guarantee that the calculation is done at least once\n",
    "        x = np.ones(2)\n",
    "        while (abs(max(x)) > tol):\n",
    "            b = np.array([-f1_ex(dt,y1,y1_dt,y2_dt,alpha,beta),\n",
    "            -f2_ex(dt,y2,y1_dt,y2_dt,gamma,sigma)])\n",
    "            x = np.linalg.solve(A,b)\n",
    "            y1_dt += x[0]\n",
    "            y2_dt += x[1]\n",
    "        \n",
    "        #update the new values\n",
    "        y1 = y1_dt\n",
    "        y2 = y2_dt\n",
    "\n",
    "        #reset the guess to the newly calculated values\n",
    "        y1_dt = y1\n",
    "        y2_dt = y2\n",
    "\n",
    "        #update the returned vectors\n",
    "        t = np.append(t,i*dt)\n",
    "        y11 = np.append(y11,y1)\n",
    "        y22 = np.append(y22,y2)\n",
    "\n",
    "    return y11,y22,t\n",
    "    "
   ]
  },
  {
   "cell_type": "markdown",
   "metadata": {},
   "source": [
    "In the following cell, we define the initial conditions, parameters, time step and setup the arrays to be used during the calculation"
   ]
  },
  {
   "cell_type": "code",
   "execution_count": 21,
   "metadata": {},
   "outputs": [],
   "source": [
    "#initial values at t = 0\n",
    "y1 = 0\n",
    "y2 = 1\n",
    "alpha = -1\n",
    "beta = 100\n",
    "gamma = 1\n",
    "sigma = -100\n",
    "\n",
    "#A good guess for the algorithm to work is the initial value\n",
    "y1_dt = y1\n",
    "y2_dt = y2\n",
    "\n",
    "#time step\n",
    "dt = 0.05\n",
    "\n",
    "#total number of time steps\n",
    "n_tot = 200\n",
    "\n",
    "#tolerance\n",
    "tol = 1e-6\n",
    "\n",
    "#arrays for graphing (will be appended during calculation)\n",
    "t = 0\n",
    "y11 = y1\n",
    "y22 = y2"
   ]
  },
  {
   "cell_type": "markdown",
   "metadata": {},
   "source": [
    "Since the matix doesn't evolve with time, it is more convenient to define it here"
   ]
  },
  {
   "cell_type": "code",
   "execution_count": 22,
   "metadata": {},
   "outputs": [],
   "source": [
    "A = np.array([[1 - alpha*dt, -beta*dt],[1 - sigma*dt, -gamma*dt]])"
   ]
  },
  {
   "cell_type": "markdown",
   "metadata": {},
   "source": [
    "Here we call the pre defined solver. It is fed the matrix, the parameters, and the vectors, and returns the fully appended vectors after convergence for the last time step "
   ]
  },
  {
   "cell_type": "code",
   "execution_count": 23,
   "metadata": {},
   "outputs": [],
   "source": [
    "y11,y22,t = newt_raph_solve(n_tot,alpha,beta,gamma,sigma,dt,y1,y2,y1_dt,y2_dt,y11,y22,t,tol,A)"
   ]
  },
  {
   "cell_type": "code",
   "execution_count": 24,
   "metadata": {},
   "outputs": [
    {
     "data": {
      "image/png": "[encoded data removed]",
      "text/plain": [
       "<Figure size 983.52x552.96 with 1 Axes>"
      ]
     },
     "metadata": {
      "needs_background": "light"
     },
     "output_type": "display_data"
    }
   ],
   "source": [
    "plt.figure(figsize = [13.66,7.68])\n",
    "plt.rcParams['font.size'] = 18\n",
    "plt.plot(t,y11,label = r'$y_{1}$')\n",
    "plt.plot(t,y22,label = r'$y_{2}$')\n",
    "#to prove that the sum total is conserved, it is being graphed as well\n",
    "plt.plot(t,y11+y22,label = 'total')\n",
    "plt.legend()\n",
    "plt.xlim([0,1])\n",
    "plt.show()"
   ]
  },
  {
   "cell_type": "markdown",
   "metadata": {},
   "source": [
    "You can ofcourse go back and change $\\alpha$, $\\beta$, $\\gamma$, $\\sigma$, and initial conditions to see how it changes.\n",
    "\n",
    "Now let's apply the same technique to a more astrophysical problem. For example, consider a galaxy forming by all of it's mass sitting in its halo condensing into the galactic plane, with a simple star formation rate. \n",
    "\n",
    "The system of coupled differential equations that governs the evolution of mass distribution as a function of time is as follows\n",
    "\n",
    "$\\begin{cases}\n",
    "\\frac{d M_{sf}}{dt} = \\frac{M_{dg}}{\\tau_{s}}\\\\\n",
    "\\frac{d M_{dg}}{dt} = \\frac{M_{hg}}{\\tau_{infall}} - \\frac{M_{dg}}{\\tau_{s}}\\\\\n",
    "\\frac{dM_{hg}}{dt}  = - \\frac{M_{hg}}{\\tau_{infall}}\n",
    "\\end{cases}$\n",
    "\n",
    "Where $M_{dg}$, $M_{hg}$, and $M_{sf}$ are the Disk gas, halo gas, and star formation respectively. $\\tau_{s}$ and $\\tau_{infall}$ are the star formation gas infall time scales respectively. It is quite a simple model, but it helps visualize the process of mass evolution on a galactice scale.\n",
    "\n",
    "The implicit discretization for the system is as follows\n",
    "\n",
    "$\\begin{cases}\n",
    "M_{sf}(i+1) - \\frac{\\Delta t}{\\tau_{s}}M_{dg}(i+1) - M_{sf}(i) = f_{1}\\\\\n",
    "M_{dg}(i+1)[1 + \\frac{\\Delta t}{\\tau_{s}}] - \\frac{\\Delta t}{\\tau_{infall}}M_{hg}(i+1) - M_{dg}(i) = f_{2}\\\\\n",
    "M_{hg}(i+1)[1 + \\frac{\\Delta t}{\\tau_{infall}}] - M_{hg}(i) = f_{3}\n",
    "\\end{cases}$\n",
    "\n",
    "Differentiating with respect to the variables at (i+1), we get:\n",
    "\n",
    "$\\begin{cases}\n",
    "\\delta_{sf} - \\frac{\\Delta t}{\\tau_{s}}\\delta_{dg} = -f_{1}\\\\\n",
    "\\delta_{dg}[1 + \\frac{\\Delta t}{\\tau_{s}}] - \\frac{\\Delta t}{\\tau_{infall}}\\delta_{hg} = -f_{2}\\\\\n",
    "\\delta_{hg}[1 + \\frac{\\Delta t}{\\tau_{infall}}] = -f_{3}\n",
    "\\end{cases}$\n",
    "\n",
    "The matrix equation to be solved is\n",
    "\n",
    "$\\begin{bmatrix}\n",
    "1 & -\\frac{\\Delta t}{\\tau_{s}} & 0\\\\\n",
    "0 & [1 + \\frac{\\Delta t}{\\tau_{s}}] & -\\frac{\\Delta t}{\\tau_{infall}}\\\\\n",
    "0 & 0 & [1 + \\frac{\\Delta t}{\\tau_{infall}}]\n",
    "\\end{bmatrix} * \\begin{bmatrix}\n",
    "\\delta_{sf}\\\\\n",
    "\\delta_{dg}\\\\\n",
    "\\delta_{hg}\\\\\n",
    "\\end{bmatrix}=\\begin{bmatrix}\n",
    "-f_{1}\\\\\n",
    "-f_{2}\\\\\n",
    "-f_{3}\n",
    "\\end{bmatrix}$"
   ]
  },
  {
   "cell_type": "code",
   "execution_count": 25,
   "metadata": {},
   "outputs": [],
   "source": [
    "#The following definitions are for astro example\n",
    "def f1(m_sf_dt,m_dg_dt,m_sf,dt,t_sf):\n",
    "    return m_sf_dt - (dt/t_sf)*m_dg_dt - m_sf\n",
    "\n",
    "def f3(m_hg_dt,m_hg,dt,t_infall):\n",
    "    return m_hg_dt*(1 + dt/t_infall) - m_hg\n",
    "\n",
    "def f2(m_dg_dt,m_hg_dt,m_dg,dt,t_sf,t_infall):\n",
    "    return m_dg_dt*(1+dt/t_sf) - (dt/t_infall)*m_hg_dt - m_dg\n",
    "\n",
    "def newt_raph_solver(A,m_hg,m_dg,m_sf,m_hg_dt,m_dg_dt,m_sf_dt,t,dt,t_sf,t_infall,n_tot,tol):\n",
    "    m_sf_1 = m_sf\n",
    "    m_dg_1 = m_dg\n",
    "    m_hg_1 = m_hg \n",
    "    for i in range(1,n_tot):\n",
    "        delta = np.ones(3)\n",
    "        while np.max(abs(delta)) >= tol:\n",
    "            b = np.array([-f1(m_sf_dt,m_dg_dt,m_sf,dt,t_sf),\n",
    "            -f2(m_dg_dt,m_hg_dt,m_dg,dt,t_sf,t_infall),\n",
    "            -f3(m_hg_dt,m_hg,dt,t_infall)])\n",
    "\n",
    "            delta = np.linalg.solve(A,b)\n",
    "            m_sf_dt += delta[0]\n",
    "            m_dg_dt += delta[1]\n",
    "            m_hg_dt += delta[2]\n",
    "        #updating the values\n",
    "        m_sf = m_sf_dt\n",
    "        m_dg = m_dg_dt\n",
    "        m_hg = m_hg_dt\n",
    "        #appending the arrays\n",
    "        m_sf_1 = np.append(m_sf_1,m_sf) \n",
    "        m_dg_1 = np.append(m_dg_1,m_dg) \n",
    "        m_hg_1 = np.append(m_hg_1,m_hg)\n",
    "        t = np.append(t,i*dt)\n",
    "        #resetting error array to ensure while condition is satisfied at least once\n",
    "\n",
    "    return m_hg_1,m_dg_1,m_sf_1,t"
   ]
  },
  {
   "cell_type": "markdown",
   "metadata": {},
   "source": [
    "Setting the initial values, vectors, and matrix"
   ]
  },
  {
   "cell_type": "code",
   "execution_count": 26,
   "metadata": {},
   "outputs": [],
   "source": [
    "#parameters\n",
    "t_infall = 1e+9 \n",
    "t_sf     = 1e+9\n",
    "tol      = 1e-5\n",
    "dt       = 1e+6 #years\n",
    "n_tot    = 13800 #Here we assume the galaxy has had the age of the universe to evolve from start till \"now\"\n",
    "\n",
    "#initial conditions and guess in solar masses, these will be appended after each converged step\n",
    "m_hg  = 1e+11\n",
    "m_dg  = 0\n",
    "m_sf  = 0\n",
    "#initial guesses\n",
    "m_hg_dt = m_hg\n",
    "m_dg_dt = m_dg\n",
    "m_sf_dt = m_sf\n",
    "\n",
    "t     = 0\n",
    "\n",
    "#setting up the array since it will remain constant\n",
    "A = np.array([[1 , -dt/t_sf,0],[0,1+dt/t_sf,-dt/t_infall],[0,0,1+dt/t_infall]])"
   ]
  },
  {
   "cell_type": "markdown",
   "metadata": {},
   "source": [
    "Here we simply call the solver and graph the results"
   ]
  },
  {
   "cell_type": "code",
   "execution_count": 27,
   "metadata": {},
   "outputs": [
    {
     "data": {
      "image/png": "[encoded data removed]",
      "text/plain": [
       "<Figure size 983.52x552.96 with 1 Axes>"
      ]
     },
     "metadata": {
      "needs_background": "light"
     },
     "output_type": "display_data"
    }
   ],
   "source": [
    "m_hg,m_dg,m_sf,t = newt_raph_solver(A,m_hg,m_dg,m_sf,m_hg_dt,m_dg_dt,m_sf_dt,t,dt,t_sf,t_infall,n_tot,tol)\n",
    "\n",
    "# plotting options\n",
    "plt.figure(figsize = [13.66,7.68])\n",
    "plt.rc('font', family='serif')\n",
    "plt.rcParams['font.size'] = 18\n",
    "\n",
    "plt.plot(t/1e+9,m_hg/1e+10,label = 'Halo Gas')\n",
    "plt.plot(t/1e+9,m_dg/1e+10,label = 'Disk Gas')\n",
    "plt.plot(t/1e+9,m_sf/1e+10,label = 'Star Formation')\n",
    "\n",
    "plt.xlabel('Time (Gyrs)')\n",
    "plt.ylabel(r'$Mass (10^{10} M_{\\odot}$)')\n",
    "plt.legend()\n",
    "plt.show()\n"
   ]
  }
 ],
 "metadata": {
  "interpreter": {
   "hash": "916dbcbb3f70747c44a77c7bcd40155683ae19c65e1c03b4aa3499c5328201f1"
  },
  "kernelspec": {
   "display_name": "Python 3.9.7 64-bit",
   "name": "python3"
  },
  "language_info": {
   "codemirror_mode": {
    "name": "ipython",
    "version": 3
   },
   "file_extension": ".py",
   "mimetype": "text/x-python",
   "name": "python",
   "nbconvert_exporter": "python",
   "pygments_lexer": "ipython3",
   "version": "3.9.7"
  },
  "orig_nbformat": 4
 },
 "nbformat": 4,
 "nbformat_minor": 2
}
